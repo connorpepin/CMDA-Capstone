{
 "cells": [
  {
   "cell_type": "code",
   "execution_count": null,
   "id": "2578e23a",
   "metadata": {},
   "outputs": [],
   "source": [
    "import pandas as pd\n",
    "import matplotlib\n",
    "import requests\n",
    "import json\n"
   ]
  },
  {
   "cell_type": "code",
   "execution_count": null,
   "id": "075d0d93",
   "metadata": {},
   "outputs": [],
   "source": [
    "%pip install geocoder"
   ]
  },
  {
   "cell_type": "code",
   "execution_count": null,
   "id": "84f4164d",
   "metadata": {},
   "outputs": [],
   "source": [
    "pd.set_option('display.max_rows', None)"
   ]
  },
  {
   "cell_type": "code",
   "execution_count": null,
   "id": "32f97573",
   "metadata": {},
   "outputs": [],
   "source": [
    "vdh_foodPermits = pd.read_csv('VDH_FoodPermits.csv')\n",
    "clean_vdh = vdh_foodPermits.loc['HealthDistrict': 'RiskCategory']\n",
    "\n",
    "p_type = vdh_foodPermits['PermitType']\n",
    "clean_cities = vdh_foodPermits['city']\n",
    "newdf = pd.merge(p_type, clean_cities, left_index=True, right_index=True)\n",
    "\n",
    "clean_newdf = newdf[newdf['PermitType'].notna()]\n",
    "\n",
    "clean_newdf['city'] = clean_newdf.loc[:,'city'].astype(str) + ',VA'\n",
    "\n",
    "print(clean_newdf)\n",
    "type(clean_vdh)"
   ]
  },
  {
   "cell_type": "code",
   "execution_count": null,
   "id": "65866693",
   "metadata": {},
   "outputs": [],
   "source": []
  },
  {
   "cell_type": "code",
   "execution_count": null,
   "id": "2fc71dbd",
   "metadata": {},
   "outputs": [],
   "source": [
    "# Testing the SBA (small business association) API"
   ]
  },
  {
   "cell_type": "code",
   "execution_count": null,
   "id": "3bb42bc3",
   "metadata": {},
   "outputs": [],
   "source": [
    "locations = ['Chicago,IL', 'San Francisco,CA']"
   ]
  },
  {
   "cell_type": "code",
   "execution_count": null,
   "id": "d0299740",
   "metadata": {},
   "outputs": [],
   "source": [
    "city_data_url = 'http://api.sba.gov/geodata/primary_links_for_city_of/%s/%s.json'\n"
   ]
  },
  {
   "cell_type": "code",
   "execution_count": null,
   "id": "863ab5ad",
   "metadata": {},
   "outputs": [],
   "source": [
    "for l in locations:\n",
    "    split_name = l.split(',')\n",
    "    response = requests.get(city_data_url % tuple(split_name))\n",
    "\n",
    "    resp_json = json.loads(response.text)\n",
    "    print(response)\n",
    "    print (resp_json[0]['full_county_name'])"
   ]
  },
  {
   "cell_type": "code",
   "execution_count": null,
   "id": "2dd4779d",
   "metadata": {},
   "outputs": [],
   "source": []
  },
  {
   "cell_type": "code",
   "execution_count": null,
   "id": "a82f3199",
   "metadata": {},
   "outputs": [],
   "source": []
  },
  {
   "cell_type": "code",
   "execution_count": null,
   "id": "d159b0f9",
   "metadata": {},
   "outputs": [],
   "source": [
    "# Testing google API"
   ]
  },
  {
   "cell_type": "code",
   "execution_count": null,
   "id": "72a76f15",
   "metadata": {},
   "outputs": [],
   "source": [
    "import geocoder"
   ]
  },
  {
   "cell_type": "code",
   "execution_count": null,
   "id": "a9ae8468",
   "metadata": {},
   "outputs": [],
   "source": [
    "results = geocoder.google(\"Chicago, IL\")\n"
   ]
  },
  {
   "cell_type": "code",
   "execution_count": null,
   "id": "ada26f56",
   "metadata": {},
   "outputs": [],
   "source": [
    "print(results)"
   ]
  },
  {
   "cell_type": "code",
   "execution_count": null,
   "id": "a5896188",
   "metadata": {},
   "outputs": [],
   "source": []
  },
  {
   "cell_type": "code",
   "execution_count": null,
   "id": "fb7bdb17",
   "metadata": {},
   "outputs": [],
   "source": []
  },
  {
   "cell_type": "code",
   "execution_count": null,
   "id": "c07a523a",
   "metadata": {},
   "outputs": [],
   "source": [
    "####"
   ]
  },
  {
   "cell_type": "code",
   "execution_count": null,
   "id": "fe6d865b",
   "metadata": {},
   "outputs": [],
   "source": [
    "print(clean_newdf['city'].dtypes)"
   ]
  },
  {
   "cell_type": "code",
   "execution_count": null,
   "id": "7b41a5ab",
   "metadata": {},
   "outputs": [],
   "source": [
    "for col in vdh_foodPermits.columns:\n",
    "    print(col)"
   ]
  },
  {
   "cell_type": "code",
   "execution_count": null,
   "id": "c9534b8f",
   "metadata": {},
   "outputs": [],
   "source": [
    "clean_vdh.loc[0:300]\n"
   ]
  },
  {
   "cell_type": "code",
   "execution_count": null,
   "id": "59bf8ac8",
   "metadata": {},
   "outputs": [],
   "source": [
    "\n",
    "pd.unique(clean_vdh['PermitType'])"
   ]
  }
 ],
 "metadata": {
  "kernelspec": {
   "display_name": "Python 3",
   "language": "python",
   "name": "python3"
  },
  "language_info": {
   "codemirror_mode": {
    "name": "ipython",
    "version": 3
   },
   "file_extension": ".py",
   "mimetype": "text/x-python",
   "name": "python",
   "nbconvert_exporter": "python",
   "pygments_lexer": "ipython3",
   "version": "3.8.8"
  }
 },
 "nbformat": 4,
 "nbformat_minor": 5
}
