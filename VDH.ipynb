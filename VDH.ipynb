{
 "cells": [
  {
   "cell_type": "code",
   "execution_count": 15,
   "id": "2578e23a",
   "metadata": {},
   "outputs": [],
   "source": [
    "import pandas as pd\n",
    "import matplotlib\n",
    "import gower"
   ]
  },
  {
   "cell_type": "code",
   "execution_count": 45,
   "id": "32f97573",
   "metadata": {},
   "outputs": [
    {
     "data": {
      "text/plain": [
       "0                                                    NaN\n",
       "1                                                    NaN\n",
       "2                                                    NaN\n",
       "3                                                    NaN\n",
       "4                                                    NaN\n",
       "                             ...                        \n",
       "296    Franklin Church of God - 2012 Summer Food Serv...\n",
       "297    Franklin Church of God - 2012 Summer Food Serv...\n",
       "298                 Soul Bistro Home of the Heavy Plates\n",
       "299                      Tropicana Restaurant & Catering\n",
       "300                                  831 Highland Ave SE\n",
       "Name: establishmentName, Length: 301, dtype: object"
      ]
     },
     "execution_count": 45,
     "metadata": {},
     "output_type": "execute_result"
    }
   ],
   "source": [
    "vdh_foodPermits = pd.read_csv('VDH_FoodPermits.csv')\n",
    "clean_vdh = vdh_foodPermits.loc[0:300, 'HealthDistrict': 'RiskCategory']\n",
    "distance_matrix = gower.gower_matrix(clean_vdh.loc[0:300])\n",
    "clean_vdh[\"establishmentName\"]"
   ]
  },
  {
   "cell_type": "code",
   "execution_count": null,
   "id": "9f96ea63",
   "metadata": {},
   "outputs": [],
   "source": []
  },
  {
   "cell_type": "code",
   "execution_count": null,
   "id": "6258f56f",
   "metadata": {},
   "outputs": [],
   "source": []
  },
  {
   "cell_type": "code",
   "execution_count": 42,
   "id": "59bf8ac8",
   "metadata": {},
   "outputs": [
    {
     "data": {
      "text/plain": [
       "array(['Restaurant/Caterer', 'Carry Out Food Service Only', 'Restaurant',\n",
       "       'Temporary restaurant', 'Full Service Restaurant',\n",
       "       'Child Care Center', 'Convenience Store', 'Mobile Food Unit',\n",
       "       'Fast Food Restaurant', 'Convenience Store Food Service', nan,\n",
       "       'Commissary', 'Carry out only', 'Nursing homes',\n",
       "       'Other Food Service', 'Temporary Restaurant', 'Mobile food unit',\n",
       "       'Seasonal Full Service Restaurant', 'Caterer',\n",
       "       'Seasonal Fast Food Restaurant', 'Nursing Home Food Service',\n",
       "       'Child Care Food Service', 'Pump & Haul',\n",
       "       'Summer Food Service Program Feeding Site',\n",
       "       'Group Home Food Service', 'Public Elementary School Food Service',\n",
       "       'Fast Food Restaurant/Caterer', 'Full Service Restaurant/Caterer',\n",
       "       'State Institution Food Service', 'Grocery Store Food Service',\n",
       "       'Bed & Breakfast Food Service', 'Seasonal restaurant',\n",
       "       'Summer Food Service Program Kitchen'], dtype=object)"
      ]
     },
     "execution_count": 42,
     "metadata": {},
     "output_type": "execute_result"
    }
   ],
   "source": [
    "from sklearn.cluster import DBSCAN\n",
    "\n",
    "# Configuring the parameters of the clustering algorithm\n",
    "dbscan_cluster = DBSCAN(eps=0.3, \n",
    "                        min_samples=2, \n",
    "                        metric=\"precomputed\")\n",
    "\n",
    "# Fitting the clustering algorithm\n",
    "dbscan_cluster.fit(distance_matrix)\n",
    "\n",
    "# Adding the results to a new column in the dataframe\n",
    "clean_vdh[\"cluster\"] = dbscan_cluster.labels_\n",
    "clean_vdh\n",
    "pd.unique(clean_vdh['PermitType'])"
   ]
  }
 ],
 "metadata": {
  "kernelspec": {
   "display_name": "Python 3 (ipykernel)",
   "language": "python",
   "name": "python3"
  },
  "language_info": {
   "codemirror_mode": {
    "name": "ipython",
    "version": 3
   },
   "file_extension": ".py",
   "mimetype": "text/x-python",
   "name": "python",
   "nbconvert_exporter": "python",
   "pygments_lexer": "ipython3",
   "version": "3.8.3"
  }
 },
 "nbformat": 4,
 "nbformat_minor": 5
}
